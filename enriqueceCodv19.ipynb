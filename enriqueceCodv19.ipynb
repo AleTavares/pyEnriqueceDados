{
  "nbformat": 4,
  "nbformat_minor": 0,
  "metadata": {
    "colab": {
      "name": "enriqueceCodv19.ipynb",
      "provenance": [],
      "collapsed_sections": [],
      "toc_visible": true
    },
    "kernelspec": {
      "name": "python3",
      "display_name": "Python 3"
    }
  },
  "cells": [
    {
      "cell_type": "markdown",
      "metadata": {
        "id": "uvq7x_LXd2nY",
        "colab_type": "text"
      },
      "source": [
        "# Enriquecimento de Dados\n",
        "**O que é Enriquecimento de Dados**\n",
        "\n",
        "Com a transformação digital e com soluções cada vez mais geridas online, contar com um banco de dados incompleto ou desatualizado pode provocar perdas e expor seu negócio a riscos. É aí que entra o Enriquecimento de Dados: esse recurso possibilita atualizar e encontrar informações rapidamente, gerando uma vantagem competitiva.\n",
        "\n",
        "Em nosso caso vamos encontrar as coordenadas geográficas das cidades, pois no dataset que tratamos no artigo anterior (https://www.linkedin.com/pulse/consumindo-api-e-tratando-dados-com-python-alexandre-tavares/)\n",
        "\n",
        "Com essas informações adicionais, nosso dataset fica mais completo. Assim, é possível plotar mapas com marcações de ocorrências do CODIV-19.\n",
        "\n",
        "Para esta tarefa utilizaremos algumas bibliotecas do Python, são elas:\n",
        "- **Pandas:**\n",
        "O pandas é uma biblioteca de análise e manipulação de dados de código aberto, rápida, poderosa, flexível e fácil de usar, construída sobre a linguagem Python .\n",
        "- **os:**\n",
        "O módulo os fornece dúzias de funções para interagir com o sistema operacional e a utilizaremos para gerar uma variável de ambiente pra autenticarmos na API do GOOLGLE.\n",
        "- **geocoder:**\n",
        "Converta endereços em coordenadas geográficas. A API de geo codificação do Google suporta pesquisa difusa.\n",
        "\n",
        "Bom agora que já entendemos um pouco sobre enriquecimento de dados, sobre algumas bibliotecas do python e oque vamos fazer vamos colocara mão na massa.\n",
        "\n",
        "Neste artigo iremos utilizar o Google Colab(https://colab.research.google.com/) pra executarmos o código."
      ]
    },
    {
      "cell_type": "markdown",
      "metadata": {
        "id": "fuA3jEONkcVD",
        "colab_type": "text"
      },
      "source": [
        "**Instalar as Bibliotecas necessárias**\n",
        "\n",
        "Vamos precisar instalar as bibliotecas do python citado acima, caso estes não esteja instalado, execute a célula abaixo:"
      ]
    },
    {
      "cell_type": "code",
      "metadata": {
        "id": "UeZ4Y0nPkhWW",
        "colab_type": "code",
        "outputId": "650115f1-abe8-45ef-bd01-7f6bd2364ec7",
        "colab": {
          "base_uri": "https://localhost:8080/",
          "height": 428
        }
      },
      "source": [
        "!pip install pandas\n",
        "!pip install os\n",
        "!pip install geocoder"
      ],
      "execution_count": 0,
      "outputs": [
        {
          "output_type": "stream",
          "text": [
            "Requirement already satisfied: pandas in /usr/local/lib/python3.6/dist-packages (0.25.3)\n",
            "Requirement already satisfied: pytz>=2017.2 in /usr/local/lib/python3.6/dist-packages (from pandas) (2018.9)\n",
            "Requirement already satisfied: numpy>=1.13.3 in /usr/local/lib/python3.6/dist-packages (from pandas) (1.18.2)\n",
            "Requirement already satisfied: python-dateutil>=2.6.1 in /usr/local/lib/python3.6/dist-packages (from pandas) (2.8.1)\n",
            "Requirement already satisfied: six>=1.5 in /usr/local/lib/python3.6/dist-packages (from python-dateutil>=2.6.1->pandas) (1.12.0)\n",
            "\u001b[31mERROR: Could not find a version that satisfies the requirement os (from versions: none)\u001b[0m\n",
            "\u001b[31mERROR: No matching distribution found for os\u001b[0m\n",
            "Collecting geocoder\n",
            "\u001b[?25l  Downloading https://files.pythonhosted.org/packages/4f/6b/13166c909ad2f2d76b929a4227c952630ebaf0d729f6317eb09cbceccbab/geocoder-1.38.1-py2.py3-none-any.whl (98kB)\n",
            "\u001b[K     |████████████████████████████████| 102kB 2.7MB/s \n",
            "\u001b[?25hRequirement already satisfied: click in /usr/local/lib/python3.6/dist-packages (from geocoder) (7.1.1)\n",
            "Requirement already satisfied: six in /usr/local/lib/python3.6/dist-packages (from geocoder) (1.12.0)\n",
            "Collecting ratelim\n",
            "  Downloading https://files.pythonhosted.org/packages/f2/98/7e6d147fd16a10a5f821db6e25f192265d6ecca3d82957a4fdd592cad49c/ratelim-0.1.6-py2.py3-none-any.whl\n",
            "Requirement already satisfied: future in /usr/local/lib/python3.6/dist-packages (from geocoder) (0.16.0)\n",
            "Requirement already satisfied: requests in /usr/local/lib/python3.6/dist-packages (from geocoder) (2.21.0)\n",
            "Requirement already satisfied: decorator in /usr/local/lib/python3.6/dist-packages (from ratelim->geocoder) (4.4.2)\n",
            "Requirement already satisfied: idna<2.9,>=2.5 in /usr/local/lib/python3.6/dist-packages (from requests->geocoder) (2.8)\n",
            "Requirement already satisfied: certifi>=2017.4.17 in /usr/local/lib/python3.6/dist-packages (from requests->geocoder) (2019.11.28)\n",
            "Requirement already satisfied: urllib3<1.25,>=1.21.1 in /usr/local/lib/python3.6/dist-packages (from requests->geocoder) (1.24.3)\n",
            "Requirement already satisfied: chardet<3.1.0,>=3.0.2 in /usr/local/lib/python3.6/dist-packages (from requests->geocoder) (3.0.4)\n",
            "Installing collected packages: ratelim, geocoder\n",
            "Successfully installed geocoder-1.38.1 ratelim-0.1.6\n"
          ],
          "name": "stdout"
        }
      ]
    },
    {
      "cell_type": "markdown",
      "metadata": {
        "id": "IEbE8PH4kWMA",
        "colab_type": "text"
      },
      "source": [
        "**Importar as Bibliotecas**\n",
        "\n",
        "Agora precisamos importar as bibliotecas para que possamos utilizá las em nosso algorítimo."
      ]
    },
    {
      "cell_type": "code",
      "metadata": {
        "id": "dv3DSOyXJS16",
        "colab_type": "code",
        "colab": {}
      },
      "source": [
        "import pandas as pd\n",
        "import os"
      ],
      "execution_count": 0,
      "outputs": []
    },
    {
      "cell_type": "markdown",
      "metadata": {
        "id": "UJehi-4ekkl8",
        "colab_type": "text"
      },
      "source": [
        "**Criar variavel de Ambiente pra Chave da API do Google**\n",
        "\n",
        "Temos que iniciar uma variável de ambiente com a chave da API do google para que possamos nos identificar e executar as requisições.\n",
        "\n",
        "Caso não saiba como gerar esta chave leia o artigo: https://www.linkedin.com/pulse/gerando-chave-de-acesso-do-google-alexandre-tavares"
      ]
    },
    {
      "cell_type": "code",
      "metadata": {
        "id": "X-YnTZ8HkuWt",
        "colab_type": "code",
        "colab": {}
      },
      "source": [
        "os.environ[\"GOOGLE_API_KEY\"] = \"Insira Aqui Sua Chave\""
      ],
      "execution_count": 0,
      "outputs": []
    },
    {
      "cell_type": "markdown",
      "metadata": {
        "id": "Za66EYmuk1M_",
        "colab_type": "text"
      },
      "source": [
        "**Importa Biblioteca de geolocalização do google**\n",
        "\n",
        "Após gerara variável de ambiente com a chave da API devemos importar o módulo geocoder, devemos importar ela sempre depois de gerar a variável, pois o módulo utiliza a variável para se autenticar."
      ]
    },
    {
      "cell_type": "code",
      "metadata": {
        "id": "nxaQcdyKk4wy",
        "colab_type": "code",
        "colab": {}
      },
      "source": [
        "import geocoder"
      ],
      "execution_count": 0,
      "outputs": []
    },
    {
      "cell_type": "markdown",
      "metadata": {
        "id": "pcIOYXVTlK-A",
        "colab_type": "text"
      },
      "source": [
        "**Lê dataset gerado no Artigo Anterior**\n",
        "\n",
        "*Será preciso fazer upload do arquivo*\n",
        "\n",
        "para isso execute os passos abaixo:\n",
        "- clique no ícone de uma pasta na lateral esquerda do colab:\n",
        "\n",
        "![alt text](http://www.portalatibaia.com.br/Artigos/colab01.png)\n",
        "\n",
        "- Com isso teremos a tela a seguir, então clique na opção de Upload:\n",
        "\n",
        "![alt text](http://www.portalatibaia.com.br/Artigos/colab02.png)\n",
        "\n",
        "- Na tela seguinte localize o arquivo gerado no artigo anterior(https://www.linkedin.com/pulse/consumindo-api-e-tratando-dados-com-python-alexandre-tavares/) e clique em abrir:\n",
        "\n",
        "![alt text](http://www.portalatibaia.com.br/Artigos/colab03.png)\n",
        "\n",
        "Com isso já temos nosso arquivo importado para o colab e podemos seguir."
      ]
    },
    {
      "cell_type": "markdown",
      "metadata": {
        "id": "H8WI1Z80qEOc",
        "colab_type": "text"
      },
      "source": [
        "**Importar arquivo**\n",
        "\n",
        "Devemos importar o arquivo para que possamos utilizá-lo em nosso algorítimo."
      ]
    },
    {
      "cell_type": "code",
      "metadata": {
        "id": "GenPPzSpLrAg",
        "colab_type": "code",
        "colab": {}
      },
      "source": [
        "dfCodiv19 = pd.read_csv('datasetCodiv19.csv',encoding ='utf-8', sep=';')"
      ],
      "execution_count": 0,
      "outputs": []
    },
    {
      "cell_type": "markdown",
      "metadata": {
        "id": "59zZoXeToAVE",
        "colab_type": "text"
      },
      "source": [
        "**Criar um DataFrame Vazio**\n",
        "\n",
        "Vamos criar um data frame com a estrutura de colunas que pretendemos ter ao final deste algorítimo."
      ]
    },
    {
      "cell_type": "code",
      "metadata": {
        "id": "EvSjjzVcLw20",
        "colab_type": "code",
        "colab": {}
      },
      "source": [
        "dfEnriquecido = pd.DataFrame(columns=['Estado', 'Cidade', 'Latitude', 'Longitude', 'casosConfirmados', 'Mortes', 'dtAtualizado'])"
      ],
      "execution_count": 0,
      "outputs": []
    },
    {
      "cell_type": "markdown",
      "metadata": {
        "id": "Jril4IosxrrQ",
        "colab_type": "text"
      },
      "source": [
        "**Enriquecer dados com as Coordenadas geográficas**\n",
        "\n",
        "Percorre Data Frame e localizando Coordenadas das Cidades / UF utilizando o módulo geocoder\n",
        "\n",
        "Ao executar o enriquecimento encontramos um erro e ao verificar vi que existe uma cidade com o nome 'Importados/Indefinidos' e para resolver incluímos a linha \n",
        "- if (ocorrencia['cidade'] != 'Importados/Indefinidos'):"
      ]
    },
    {
      "cell_type": "code",
      "metadata": {
        "id": "qw9wPC4OoJEa",
        "colab_type": "code",
        "outputId": "62b5d812-e6a7-4768-d379-e4dca107968c",
        "colab": {
          "base_uri": "https://localhost:8080/",
          "height": 34
        }
      },
      "source": [
        "for (i, ocorrencia) in dfCodiv19.iterrows():\n",
        "  if (ocorrencia['cidade'] != 'Importados/Indefinidos'):\n",
        "    #Gera coordenadas\n",
        "    coordenadas = geocoder.google(str(ocorrencia['cidade']) + ',' + str(ocorrencia['uf']))\n",
        "    \n",
        "    # Cria linha no dataframe zerado\n",
        "    dfEnriquecido.loc[len(dfEnriquecido)] = [ocorrencia['uf'], ocorrencia['cidade'], coordenadas.latlng[0], coordenadas.latlng[1], ocorrencia['casosConfirmados'], ocorrencia['mortos'], ocorrencia['dataAtualizacao']]"
      ],
      "execution_count": 0,
      "outputs": [
        {
          "output_type": "stream",
          "text": [
            "ERROR! Session/line number was not unique in database. History logging moved to new session 60\n"
          ],
          "name": "stdout"
        }
      ]
    },
    {
      "cell_type": "markdown",
      "metadata": {
        "id": "rHSdcliBp0ML",
        "colab_type": "text"
      },
      "source": [
        "**Exibir DataSet**\n",
        "\n",
        "Após todo o processo temos nosso dataset enriquecido com as coordenadas geográficas."
      ]
    },
    {
      "cell_type": "code",
      "metadata": {
        "id": "2OB5SGptp4Q5",
        "colab_type": "code",
        "outputId": "7cbfc025-3218-4658-bdeb-60b518616571",
        "colab": {
          "base_uri": "https://localhost:8080/",
          "height": 419
        }
      },
      "source": [
        "dfEnriquecido"
      ],
      "execution_count": 0,
      "outputs": [
        {
          "output_type": "execute_result",
          "data": {
            "text/html": [
              "<div>\n",
              "<style scoped>\n",
              "    .dataframe tbody tr th:only-of-type {\n",
              "        vertical-align: middle;\n",
              "    }\n",
              "\n",
              "    .dataframe tbody tr th {\n",
              "        vertical-align: top;\n",
              "    }\n",
              "\n",
              "    .dataframe thead th {\n",
              "        text-align: right;\n",
              "    }\n",
              "</style>\n",
              "<table border=\"1\" class=\"dataframe\">\n",
              "  <thead>\n",
              "    <tr style=\"text-align: right;\">\n",
              "      <th></th>\n",
              "      <th>Estado</th>\n",
              "      <th>Cidade</th>\n",
              "      <th>Latitude</th>\n",
              "      <th>Longitude</th>\n",
              "      <th>casosConfirmados</th>\n",
              "      <th>Mortes</th>\n",
              "      <th>dtAtualizado</th>\n",
              "    </tr>\n",
              "  </thead>\n",
              "  <tbody>\n",
              "    <tr>\n",
              "      <th>0</th>\n",
              "      <td>AC</td>\n",
              "      <td>Rio Branco</td>\n",
              "      <td>-9.975377</td>\n",
              "      <td>-67.824898</td>\n",
              "      <td>25</td>\n",
              "      <td>0.0</td>\n",
              "      <td>2020-03-28</td>\n",
              "    </tr>\n",
              "    <tr>\n",
              "      <th>1</th>\n",
              "      <td>AL</td>\n",
              "      <td>Maceió</td>\n",
              "      <td>-9.649849</td>\n",
              "      <td>-35.708949</td>\n",
              "      <td>13</td>\n",
              "      <td>0.0</td>\n",
              "      <td>2020-03-28</td>\n",
              "    </tr>\n",
              "    <tr>\n",
              "      <th>2</th>\n",
              "      <td>AL</td>\n",
              "      <td>Porto Real do Colégio</td>\n",
              "      <td>-10.185321</td>\n",
              "      <td>-36.837885</td>\n",
              "      <td>1</td>\n",
              "      <td>0.0</td>\n",
              "      <td>2020-03-28</td>\n",
              "    </tr>\n",
              "    <tr>\n",
              "      <th>3</th>\n",
              "      <td>AM</td>\n",
              "      <td>Boca do Acre</td>\n",
              "      <td>-8.748832</td>\n",
              "      <td>-67.399458</td>\n",
              "      <td>1</td>\n",
              "      <td>0.0</td>\n",
              "      <td>2020-03-28</td>\n",
              "    </tr>\n",
              "    <tr>\n",
              "      <th>4</th>\n",
              "      <td>AM</td>\n",
              "      <td>Manacapuru</td>\n",
              "      <td>-3.289745</td>\n",
              "      <td>-60.632088</td>\n",
              "      <td>2</td>\n",
              "      <td>0.0</td>\n",
              "      <td>2020-03-28</td>\n",
              "    </tr>\n",
              "    <tr>\n",
              "      <th>...</th>\n",
              "      <td>...</td>\n",
              "      <td>...</td>\n",
              "      <td>...</td>\n",
              "      <td>...</td>\n",
              "      <td>...</td>\n",
              "      <td>...</td>\n",
              "      <td>...</td>\n",
              "    </tr>\n",
              "    <tr>\n",
              "      <th>910</th>\n",
              "      <td>RN</td>\n",
              "      <td>Mossoró</td>\n",
              "      <td>-5.184128</td>\n",
              "      <td>-37.347780</td>\n",
              "      <td>1</td>\n",
              "      <td>0.0</td>\n",
              "      <td>2020-03-25</td>\n",
              "    </tr>\n",
              "    <tr>\n",
              "      <th>911</th>\n",
              "      <td>RN</td>\n",
              "      <td>Natal</td>\n",
              "      <td>-5.779257</td>\n",
              "      <td>-35.200916</td>\n",
              "      <td>9</td>\n",
              "      <td>0.0</td>\n",
              "      <td>2020-03-25</td>\n",
              "    </tr>\n",
              "    <tr>\n",
              "      <th>912</th>\n",
              "      <td>RN</td>\n",
              "      <td>Parnamirim</td>\n",
              "      <td>-5.911554</td>\n",
              "      <td>-35.271316</td>\n",
              "      <td>4</td>\n",
              "      <td>0.0</td>\n",
              "      <td>2020-03-25</td>\n",
              "    </tr>\n",
              "    <tr>\n",
              "      <th>913</th>\n",
              "      <td>RO</td>\n",
              "      <td>Ji-Paraná</td>\n",
              "      <td>-10.878141</td>\n",
              "      <td>-61.932673</td>\n",
              "      <td>1</td>\n",
              "      <td>0.0</td>\n",
              "      <td>2020-03-25</td>\n",
              "    </tr>\n",
              "    <tr>\n",
              "      <th>914</th>\n",
              "      <td>RO</td>\n",
              "      <td>Porto Velho</td>\n",
              "      <td>-8.761193</td>\n",
              "      <td>-63.900440</td>\n",
              "      <td>4</td>\n",
              "      <td>0.0</td>\n",
              "      <td>2020-03-25</td>\n",
              "    </tr>\n",
              "  </tbody>\n",
              "</table>\n",
              "<p>915 rows × 7 columns</p>\n",
              "</div>"
            ],
            "text/plain": [
              "    Estado                 Cidade  ...  Mortes  dtAtualizado\n",
              "0       AC             Rio Branco  ...     0.0    2020-03-28\n",
              "1       AL                 Maceió  ...     0.0    2020-03-28\n",
              "2       AL  Porto Real do Colégio  ...     0.0    2020-03-28\n",
              "3       AM           Boca do Acre  ...     0.0    2020-03-28\n",
              "4       AM             Manacapuru  ...     0.0    2020-03-28\n",
              "..     ...                    ...  ...     ...           ...\n",
              "910     RN                Mossoró  ...     0.0    2020-03-25\n",
              "911     RN                  Natal  ...     0.0    2020-03-25\n",
              "912     RN             Parnamirim  ...     0.0    2020-03-25\n",
              "913     RO              Ji-Paraná  ...     0.0    2020-03-25\n",
              "914     RO            Porto Velho  ...     0.0    2020-03-25\n",
              "\n",
              "[915 rows x 7 columns]"
            ]
          },
          "metadata": {
            "tags": []
          },
          "execution_count": 20
        }
      ]
    },
    {
      "cell_type": "markdown",
      "metadata": {
        "id": "r9VUugbaxSEn",
        "colab_type": "text"
      },
      "source": [
        "**Gerar Arquivo CSV para próximo artigo**"
      ]
    },
    {
      "cell_type": "code",
      "metadata": {
        "id": "dCFi-wRCxHwE",
        "colab_type": "code",
        "colab": {}
      },
      "source": [
        "dfEnriquecido.to_csv('datasetCodiv19Enriquecido.csv', index=False,sep=';')"
      ],
      "execution_count": 0,
      "outputs": []
    },
    {
      "cell_type": "markdown",
      "metadata": {
        "id": "AJzg-JTCxXi4",
        "colab_type": "text"
      },
      "source": [
        "Os scripts deste artigo estão em: https://github.com/AleTavares/pyEnriqueceDados\n",
        "\n",
        "**Autor:**\n",
        "\n",
        "*Alexandre Tavares*\n",
        "\n",
        "*Engenheiro de Dados*\n",
        "\n",
        "https://www.linkedin.com/in/alexandre-tavares/"
      ]
    }
  ]
}